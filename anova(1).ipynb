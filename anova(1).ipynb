{
  "nbformat": 4,
  "nbformat_minor": 0,
  "metadata": {
    "colab": {
      "name": "anova.ipynb",
      "provenance": [],
      "collapsed_sections": []
    },
    "kernelspec": {
      "name": "python3",
      "display_name": "Python 3"
    },
    "language_info": {
      "name": "python"
    }
  },
  "cells": [
    {
      "cell_type": "code",
      "metadata": {
        "id": "ZVpqdMHlSWJP"
      },
      "source": [
        "import pandas as pd\n",
        "import numpy as np"
      ],
      "execution_count": null,
      "outputs": []
    },
    {
      "cell_type": "code",
      "metadata": {
        "colab": {
          "base_uri": "https://localhost:8080/"
        },
        "id": "IKyrf9mdSaWU",
        "outputId": "e1552ac4-3d0a-439f-b717-a66e1482d9eb"
      },
      "source": [
        "#fANOVA install\n",
        "\n",
        "!git clone https://github.com/automl/fanova.git\n",
        "%cd /content/fanova\n",
        "!pip install -r requirements.txt\n",
        "!python setup.py install"
      ],
      "execution_count": null,
      "outputs": [
        {
          "output_type": "stream",
          "text": [
            "Cloning into 'fanova'...\n",
            "remote: Enumerating objects: 1602, done.\u001b[K\n",
            "remote: Total 1602 (delta 0), reused 0 (delta 0), pack-reused 1602\u001b[K\n",
            "Receiving objects: 100% (1602/1602), 28.84 MiB | 36.06 MiB/s, done.\n",
            "Resolving deltas: 100% (873/873), done.\n",
            "/content/fanova\n",
            "Requirement already satisfied: numpy in /usr/local/lib/python3.7/dist-packages (from -r requirements.txt (line 1)) (1.19.5)\n",
            "Requirement already satisfied: pandas in /usr/local/lib/python3.7/dist-packages (from -r requirements.txt (line 2)) (1.1.5)\n",
            "Requirement already satisfied: docutils>=0.3 in /usr/local/lib/python3.7/dist-packages (from -r requirements.txt (line 3)) (0.17.1)\n",
            "Requirement already satisfied: setuptools in /usr/local/lib/python3.7/dist-packages (from -r requirements.txt (line 4)) (57.0.0)\n",
            "Requirement already satisfied: matplotlib>=1.4.2 in /usr/local/lib/python3.7/dist-packages (from -r requirements.txt (line 5)) (3.2.2)\n",
            "Collecting pyrfr>=0.5.0\n",
            "\u001b[?25l  Downloading https://files.pythonhosted.org/packages/8b/1a/56b630c949e942d12f4ad5f4fd240c1cf2e1260e5126190b171ca2aa9199/pyrfr-0.8.2-cp37-cp37m-manylinux2014_x86_64.whl (4.0MB)\n",
            "\u001b[K     |████████████████████████████████| 4.0MB 31.3MB/s \n",
            "\u001b[?25hCollecting ConfigSpace\n",
            "\u001b[?25l  Downloading https://files.pythonhosted.org/packages/3e/19/726bcb262949ec28c71ba571bfb1a0006f985e7141a83cff34c733c75739/ConfigSpace-0.4.19-cp37-cp37m-manylinux2014_x86_64.whl (4.2MB)\n",
            "\u001b[K     |████████████████████████████████| 4.2MB 33.4MB/s \n",
            "\u001b[?25hRequirement already satisfied: python-dateutil>=2.7.3 in /usr/local/lib/python3.7/dist-packages (from pandas->-r requirements.txt (line 2)) (2.8.1)\n",
            "Requirement already satisfied: pytz>=2017.2 in /usr/local/lib/python3.7/dist-packages (from pandas->-r requirements.txt (line 2)) (2018.9)\n",
            "Requirement already satisfied: pyparsing!=2.0.4,!=2.1.2,!=2.1.6,>=2.0.1 in /usr/local/lib/python3.7/dist-packages (from matplotlib>=1.4.2->-r requirements.txt (line 5)) (2.4.7)\n",
            "Requirement already satisfied: kiwisolver>=1.0.1 in /usr/local/lib/python3.7/dist-packages (from matplotlib>=1.4.2->-r requirements.txt (line 5)) (1.3.1)\n",
            "Requirement already satisfied: cycler>=0.10 in /usr/local/lib/python3.7/dist-packages (from matplotlib>=1.4.2->-r requirements.txt (line 5)) (0.10.0)\n",
            "Requirement already satisfied: cython in /usr/local/lib/python3.7/dist-packages (from ConfigSpace->-r requirements.txt (line 7)) (0.29.23)\n",
            "Requirement already satisfied: six>=1.5 in /usr/local/lib/python3.7/dist-packages (from python-dateutil>=2.7.3->pandas->-r requirements.txt (line 2)) (1.15.0)\n",
            "Installing collected packages: pyrfr, ConfigSpace\n",
            "Successfully installed ConfigSpace-0.4.19 pyrfr-0.8.2\n",
            "/usr/local/lib/python3.7/dist-packages/setuptools/dist.py:484: UserWarning: Normalizing '2.0.20.dev' to '2.0.20.dev0'\n",
            "  warnings.warn(tmpl.format(**locals()))\n",
            "running install\n",
            "running bdist_egg\n",
            "running egg_info\n",
            "creating fanova.egg-info\n",
            "writing fanova.egg-info/PKG-INFO\n",
            "writing dependency_links to fanova.egg-info/dependency_links.txt\n",
            "writing requirements to fanova.egg-info/requires.txt\n",
            "writing top-level names to fanova.egg-info/top_level.txt\n",
            "writing manifest file 'fanova.egg-info/SOURCES.txt'\n",
            "reading manifest template 'MANIFEST.in'\n",
            "warning: no files found matching 'Readme.rst'\n",
            "writing manifest file 'fanova.egg-info/SOURCES.txt'\n",
            "installing library code to build/bdist.linux-x86_64/egg\n",
            "running install_lib\n",
            "running build_py\n",
            "creating build\n",
            "creating build/lib\n",
            "creating build/lib/fanova\n",
            "copying fanova/__init__.py -> build/lib/fanova\n",
            "copying fanova/fanova.py -> build/lib/fanova\n",
            "copying fanova/__version__.py -> build/lib/fanova\n",
            "copying fanova/visualizer.py -> build/lib/fanova\n",
            "creating build/bdist.linux-x86_64\n",
            "creating build/bdist.linux-x86_64/egg\n",
            "creating build/bdist.linux-x86_64/egg/fanova\n",
            "copying build/lib/fanova/__init__.py -> build/bdist.linux-x86_64/egg/fanova\n",
            "copying build/lib/fanova/fanova.py -> build/bdist.linux-x86_64/egg/fanova\n",
            "copying build/lib/fanova/__version__.py -> build/bdist.linux-x86_64/egg/fanova\n",
            "copying build/lib/fanova/visualizer.py -> build/bdist.linux-x86_64/egg/fanova\n",
            "byte-compiling build/bdist.linux-x86_64/egg/fanova/__init__.py to __init__.cpython-37.pyc\n",
            "byte-compiling build/bdist.linux-x86_64/egg/fanova/fanova.py to fanova.cpython-37.pyc\n",
            "byte-compiling build/bdist.linux-x86_64/egg/fanova/__version__.py to __version__.cpython-37.pyc\n",
            "byte-compiling build/bdist.linux-x86_64/egg/fanova/visualizer.py to visualizer.cpython-37.pyc\n",
            "creating build/bdist.linux-x86_64/egg/EGG-INFO\n",
            "copying fanova.egg-info/PKG-INFO -> build/bdist.linux-x86_64/egg/EGG-INFO\n",
            "copying fanova.egg-info/SOURCES.txt -> build/bdist.linux-x86_64/egg/EGG-INFO\n",
            "copying fanova.egg-info/dependency_links.txt -> build/bdist.linux-x86_64/egg/EGG-INFO\n",
            "copying fanova.egg-info/requires.txt -> build/bdist.linux-x86_64/egg/EGG-INFO\n",
            "copying fanova.egg-info/top_level.txt -> build/bdist.linux-x86_64/egg/EGG-INFO\n",
            "zip_safe flag not set; analyzing archive contents...\n",
            "creating dist\n",
            "creating 'dist/fanova-2.0.20.dev0-py3.7.egg' and adding 'build/bdist.linux-x86_64/egg' to it\n",
            "removing 'build/bdist.linux-x86_64/egg' (and everything under it)\n",
            "Processing fanova-2.0.20.dev0-py3.7.egg\n",
            "Copying fanova-2.0.20.dev0-py3.7.egg to /usr/local/lib/python3.7/dist-packages\n",
            "Adding fanova 2.0.20.dev0 to easy-install.pth file\n",
            "\n",
            "Installed /usr/local/lib/python3.7/dist-packages/fanova-2.0.20.dev0-py3.7.egg\n",
            "Processing dependencies for fanova==2.0.20.dev0\n",
            "Searching for ConfigSpace==0.4.19\n",
            "Best match: ConfigSpace 0.4.19\n",
            "Adding ConfigSpace 0.4.19 to easy-install.pth file\n",
            "\n",
            "Using /usr/local/lib/python3.7/dist-packages\n",
            "Searching for pyrfr==0.8.2\n",
            "Best match: pyrfr 0.8.2\n",
            "Adding pyrfr 0.8.2 to easy-install.pth file\n",
            "\n",
            "Using /usr/local/lib/python3.7/dist-packages\n",
            "Searching for matplotlib==3.2.2\n",
            "Best match: matplotlib 3.2.2\n",
            "Adding matplotlib 3.2.2 to easy-install.pth file\n",
            "\n",
            "Using /usr/local/lib/python3.7/dist-packages\n",
            "Searching for setuptools==57.0.0\n",
            "Best match: setuptools 57.0.0\n",
            "Adding setuptools 57.0.0 to easy-install.pth file\n",
            "\n",
            "Using /usr/local/lib/python3.7/dist-packages\n",
            "Searching for docutils==0.17.1\n",
            "Best match: docutils 0.17.1\n",
            "Adding docutils 0.17.1 to easy-install.pth file\n",
            "\n",
            "Using /usr/local/lib/python3.7/dist-packages\n",
            "Searching for pandas==1.1.5\n",
            "Best match: pandas 1.1.5\n",
            "Adding pandas 1.1.5 to easy-install.pth file\n",
            "\n",
            "Using /usr/local/lib/python3.7/dist-packages\n",
            "Searching for numpy==1.19.5\n",
            "Best match: numpy 1.19.5\n",
            "Adding numpy 1.19.5 to easy-install.pth file\n",
            "Installing f2py script to /usr/local/bin\n",
            "Installing f2py3 script to /usr/local/bin\n",
            "Installing f2py3.7 script to /usr/local/bin\n",
            "\n",
            "Using /usr/local/lib/python3.7/dist-packages\n",
            "Searching for pyparsing==2.4.7\n",
            "Best match: pyparsing 2.4.7\n",
            "Adding pyparsing 2.4.7 to easy-install.pth file\n",
            "\n",
            "Using /usr/local/lib/python3.7/dist-packages\n",
            "Searching for Cython==0.29.23\n",
            "Best match: Cython 0.29.23\n",
            "Adding Cython 0.29.23 to easy-install.pth file\n",
            "Installing cygdb script to /usr/local/bin\n",
            "Installing cython script to /usr/local/bin\n",
            "Installing cythonize script to /usr/local/bin\n",
            "\n",
            "Using /usr/local/lib/python3.7/dist-packages\n",
            "Searching for kiwisolver==1.3.1\n",
            "Best match: kiwisolver 1.3.1\n",
            "Adding kiwisolver 1.3.1 to easy-install.pth file\n",
            "\n",
            "Using /usr/local/lib/python3.7/dist-packages\n",
            "Searching for python-dateutil==2.8.1\n",
            "Best match: python-dateutil 2.8.1\n",
            "Adding python-dateutil 2.8.1 to easy-install.pth file\n",
            "\n",
            "Using /usr/local/lib/python3.7/dist-packages\n",
            "Searching for cycler==0.10.0\n",
            "Best match: cycler 0.10.0\n",
            "Adding cycler 0.10.0 to easy-install.pth file\n",
            "\n",
            "Using /usr/local/lib/python3.7/dist-packages\n",
            "Searching for pytz==2018.9\n",
            "Best match: pytz 2018.9\n",
            "Adding pytz 2018.9 to easy-install.pth file\n",
            "\n",
            "Using /usr/local/lib/python3.7/dist-packages\n",
            "Searching for six==1.15.0\n",
            "Best match: six 1.15.0\n",
            "Adding six 1.15.0 to easy-install.pth file\n",
            "\n",
            "Using /usr/local/lib/python3.7/dist-packages\n",
            "Finished processing dependencies for fanova==2.0.20.dev0\n"
          ],
          "name": "stdout"
        }
      ]
    },
    {
      "cell_type": "code",
      "metadata": {
        "colab": {
          "base_uri": "https://localhost:8080/",
          "height": 206
        },
        "id": "hHEE1U1OSx81",
        "outputId": "2ee1c089-cf44-420c-f8a3-d4fd66ef5194"
      },
      "source": [
        "#Reading xlsx file as dataframe\n",
        "\n",
        "df = pd.DataFrame(pd.read_excel('/content/fanova_wszystkie_nawetniewiemjakiexd.xlsx'))\n",
        "df.drop('trial_id',inplace = True, axis = 1)\n",
        "df.head(5)\n"
      ],
      "execution_count": null,
      "outputs": [
        {
          "output_type": "execute_result",
          "data": {
            "text/html": [
              "<div>\n",
              "<style scoped>\n",
              "    .dataframe tbody tr th:only-of-type {\n",
              "        vertical-align: middle;\n",
              "    }\n",
              "\n",
              "    .dataframe tbody tr th {\n",
              "        vertical-align: top;\n",
              "    }\n",
              "\n",
              "    .dataframe thead th {\n",
              "        text-align: right;\n",
              "    }\n",
              "</style>\n",
              "<table border=\"1\" class=\"dataframe\">\n",
              "  <thead>\n",
              "    <tr style=\"text-align: right;\">\n",
              "      <th></th>\n",
              "      <th>learning_rate</th>\n",
              "      <th>dropout</th>\n",
              "      <th>n_unfreeze_layers</th>\n",
              "      <th>img_size</th>\n",
              "      <th>batch_size</th>\n",
              "      <th>optimizer</th>\n",
              "      <th>val_accuracy</th>\n",
              "    </tr>\n",
              "  </thead>\n",
              "  <tbody>\n",
              "    <tr>\n",
              "      <th>0</th>\n",
              "      <td>0.004317</td>\n",
              "      <td>0.294967</td>\n",
              "      <td>132</td>\n",
              "      <td>256</td>\n",
              "      <td>32</td>\n",
              "      <td>Adadelta</td>\n",
              "      <td>0.938765</td>\n",
              "    </tr>\n",
              "    <tr>\n",
              "      <th>1</th>\n",
              "      <td>0.000291</td>\n",
              "      <td>0.115528</td>\n",
              "      <td>118</td>\n",
              "      <td>256</td>\n",
              "      <td>16</td>\n",
              "      <td>SGD</td>\n",
              "      <td>0.999705</td>\n",
              "    </tr>\n",
              "    <tr>\n",
              "      <th>2</th>\n",
              "      <td>0.000085</td>\n",
              "      <td>0.337158</td>\n",
              "      <td>123</td>\n",
              "      <td>256</td>\n",
              "      <td>64</td>\n",
              "      <td>Adadelta</td>\n",
              "      <td>0.103413</td>\n",
              "    </tr>\n",
              "    <tr>\n",
              "      <th>3</th>\n",
              "      <td>0.005083</td>\n",
              "      <td>0.183349</td>\n",
              "      <td>118</td>\n",
              "      <td>128</td>\n",
              "      <td>16</td>\n",
              "      <td>RMSprop</td>\n",
              "      <td>0.978579</td>\n",
              "    </tr>\n",
              "    <tr>\n",
              "      <th>4</th>\n",
              "      <td>0.002913</td>\n",
              "      <td>0.365710</td>\n",
              "      <td>118</td>\n",
              "      <td>256</td>\n",
              "      <td>16</td>\n",
              "      <td>Adadelta</td>\n",
              "      <td>1.000000</td>\n",
              "    </tr>\n",
              "  </tbody>\n",
              "</table>\n",
              "</div>"
            ],
            "text/plain": [
              "   learning_rate   dropout  ...  optimizer  val_accuracy\n",
              "0       0.004317  0.294967  ...   Adadelta      0.938765\n",
              "1       0.000291  0.115528  ...        SGD      0.999705\n",
              "2       0.000085  0.337158  ...   Adadelta      0.103413\n",
              "3       0.005083  0.183349  ...    RMSprop      0.978579\n",
              "4       0.002913  0.365710  ...   Adadelta      1.000000\n",
              "\n",
              "[5 rows x 7 columns]"
            ]
          },
          "metadata": {
            "tags": []
          },
          "execution_count": 3
        }
      ]
    },
    {
      "cell_type": "code",
      "metadata": {
        "id": "6DmsgWn8S8Eq"
      },
      "source": [
        "#Converting dataframe to csv (Fanova uses csv files) \n",
        "\n",
        "df.to_csv (\"/content/anova.csv\", \n",
        "                  index = None,\n",
        "                  header=True)"
      ],
      "execution_count": null,
      "outputs": []
    },
    {
      "cell_type": "code",
      "metadata": {
        "colab": {
          "base_uri": "https://localhost:8080/"
        },
        "id": "K1_4Bo0hTaC1",
        "outputId": "dadcf46f-bda4-4650-a4fa-44558badc4aa"
      },
      "source": [
        "#Label encoding for anova (it cannot take string argument) and some other formatting operations\n",
        "df = pd.read_csv('/content/anova.csv')\n",
        "#print(df)\n",
        "df['optimizer'] = df['optimizer'].astype('category')\n",
        "df['optimizer_cat'] = df['optimizer'].cat.codes\n",
        "df.drop('optimizer',inplace = True, axis = 1)\n",
        "cols = df.columns.tolist()\n",
        "cols = cols[-1:] + cols[:-1]\n",
        "df = df[cols]\n",
        "\n",
        "'''\n",
        "from sklearn.preprocessing import StandardScaler\n",
        "scaler = StandardScaler()\n",
        "df[['optimizer_cat','learning_rate','dropout','n_unfreeze_layers','img_size','batch_size','val_accuracy']] = scaler.fit_transform(df[['optimizer_cat','learning_rate','dropout','n_unfreeze_layers','img_size','batch_size','val_accuracy']])\n",
        "'''\n",
        "print(df.head(5))\n",
        "#data = np.loadtxt('/content/df_data.csv',delimiter='.')\n",
        "#df_data = df.to_csv(r'/content/fanova_data_all.csv',index=False,header = False )\n",
        "\n",
        "fanova_y = df.val_accuracy\n",
        "fanova_x = df.drop(['val_accuracy'],axis = 1 )\n",
        "\n",
        "print(fanova_x.head(5))\n",
        "print(fanova_y.head(5))\n",
        "fanova_x.to_csv(r'/content/fanova_x.csv',index=False,header = False )\n",
        "fanova_y.to_csv(r'/content/fanova_y.csv',index=False,header = False )\n",
        "\n",
        "from fanova import fANOVA\n",
        "import csv\n",
        "X = np.loadtxt('/content/fanova_x.csv',delimiter=',')\n",
        "Y = np.loadtxt('/content/fanova_y.csv',delimiter=',')\n",
        "\n",
        "import ConfigSpace\n",
        "from ConfigSpace.hyperparameters import UniformFloatHyperparameter\n",
        "\n",
        "# config space\n",
        "pcs = list(zip(np.min(X,axis=0), np.max(X, axis=0)))\n",
        "cs = ConfigSpace.ConfigurationSpace()\n",
        "for i in range(len(pcs)):\n",
        "\tcs.add_hyperparameter(UniformFloatHyperparameter(\"%i\" %i, pcs[i][0], pcs[i][1]))\n",
        " \n",
        "print(cs)\n",
        "f = fANOVA(X,Y,config_space=cs, min_samples_split =3)\n",
        "\n",
        "\n",
        "print((f.quantify_importance((0, ))))\n",
        "print(f.quantify_importance((1, )))\n",
        "print(f.quantify_importance((2, )))\n",
        "print(f.quantify_importance((3, )))\n",
        "print(f.quantify_importance((4, )))\n",
        "print(f.quantify_importance((5, )))"
      ],
      "execution_count": null,
      "outputs": [
        {
          "output_type": "stream",
          "text": [
            "WARNING:fanova.fanova.fANOVA:Note that fANOVA expects data to be ordered like the return of ConfigSpace's 'get_hyperparameters'-method. We recommend to use labeled pandas dataframes to avoid any problems.\n"
          ],
          "name": "stderr"
        },
        {
          "output_type": "stream",
          "text": [
            "   optimizer_cat  learning_rate   dropout  ...  img_size  batch_size  val_accuracy\n",
            "0              0       0.004317  0.294967  ...       256          32      0.938765\n",
            "1              3       0.000291  0.115528  ...       256          16      0.999705\n",
            "2              0       0.000085  0.337158  ...       256          64      0.103413\n",
            "3              2       0.005083  0.183349  ...       128          16      0.978579\n",
            "4              0       0.002913  0.365710  ...       256          16      1.000000\n",
            "\n",
            "[5 rows x 7 columns]\n",
            "   optimizer_cat  learning_rate  ...  img_size  batch_size\n",
            "0              0       0.004317  ...       256          32\n",
            "1              3       0.000291  ...       256          16\n",
            "2              0       0.000085  ...       256          64\n",
            "3              2       0.005083  ...       128          16\n",
            "4              0       0.002913  ...       256          16\n",
            "\n",
            "[5 rows x 6 columns]\n",
            "0    0.938765\n",
            "1    0.999705\n",
            "2    0.103413\n",
            "3    0.978579\n",
            "4    1.000000\n",
            "Name: val_accuracy, dtype: float64\n",
            "Configuration space object:\n",
            "  Hyperparameters:\n",
            "    0, Type: UniformFloat, Range: [0.0, 3.0], Default: 1.5\n",
            "    1, Type: UniformFloat, Range: [1.117656e-05, 0.079279], Default: 0.0396450883\n",
            "    2, Type: UniformFloat, Range: [0.014783205392811452, 0.392659], Default: 0.2037211027\n",
            "    3, Type: UniformFloat, Range: [0.0, 132.0], Default: 66.0\n",
            "    4, Type: UniformFloat, Range: [71.0, 256.0], Default: 163.5\n",
            "    5, Type: UniformFloat, Range: [16.0, 64.0], Default: 40.0\n",
            "\n",
            "{(0,): {'individual importance': 0.18398061913122543, 'total importance': 0.18398061913122543, 'individual std': 0.2278026712081312, 'total std': 0.2278026712081312}}\n",
            "{(1,): {'individual importance': 0.133715235713098, 'total importance': 0.133715235713098, 'individual std': 0.13140403671889356, 'total std': 0.13140403671889356}}\n",
            "{(2,): {'individual importance': 0.11843971748104679, 'total importance': 0.11843971748104679, 'individual std': 0.14515753601009113, 'total std': 0.14515753601009113}}\n",
            "{(3,): {'individual importance': 0.06957841106025422, 'total importance': 0.06957841106025422, 'individual std': 0.1502211501649621, 'total std': 0.1502211501649621}}\n",
            "{(4,): {'individual importance': 0.07180970764350421, 'total importance': 0.07180970764350421, 'individual std': 0.10307210475880982, 'total std': 0.10307210475880982}}\n",
            "{(5,): {'individual importance': 0.00489639338945761, 'total importance': 0.00489639338945761, 'individual std': 0.007038866734111882, 'total std': 0.007038866734111882}}\n"
          ],
          "name": "stdout"
        }
      ]
    },
    {
      "cell_type": "code",
      "metadata": {
        "id": "ziF-on5RUwO-"
      },
      "source": [
        "import fanova.visualizer\n",
        "vis = fanova.visualizer.Visualizer(f, cs,'/content/')"
      ],
      "execution_count": null,
      "outputs": []
    },
    {
      "cell_type": "code",
      "metadata": {
        "colab": {
          "base_uri": "https://localhost:8080/",
          "height": 297
        },
        "id": "eA0dzdVnZZxk",
        "outputId": "aacde508-a82e-4f8d-bdf5-39058fea59a3"
      },
      "source": [
        "vis.plot_marginal(5)"
      ],
      "execution_count": null,
      "outputs": [
        {
          "output_type": "display_data",
          "data": {
            "image/png": "[encoded data removed]",
            "text/plain": [
              "<Figure size 432x288 with 1 Axes>"
            ]
          },
          "metadata": {
            "tags": [],
            "needs_background": "light"
          }
        }
      ]
    },
    {
      "cell_type": "code",
      "metadata": {
        "colab": {
          "base_uri": "https://localhost:8080/"
        },
        "id": "J_r2-7sveqix",
        "outputId": "78066e7c-5c2d-451d-d000-21713dac89e4"
      },
      "source": [
        "best_margs = f.get_most_important_pairwise_marginals(n=10)\n",
        "print(best_margs)"
      ],
      "execution_count": null,
      "outputs": [
        {
          "output_type": "stream",
          "text": [
            "OrderedDict([(('0', '1'), 0.060746769909165305), (('0', '2'), 0.05284951149242754), (('1', '2'), 0.042618701864101764), (('1', '3'), 0.035564005139555), (('2', '3'), 0.02541993210091143), (('1', '4'), 0.023577672652094765), (('0', '3'), 0.0220011452580803), (('2', '4'), 0.018654271915198525), (('3', '4'), 0.015984760630863536), (('0', '4'), 0.008844263536998919)])\n"
          ],
          "name": "stdout"
        }
      ]
    },
    {
      "cell_type": "code",
      "metadata": {
        "colab": {
          "base_uri": "https://localhost:8080/",
          "height": 356
        },
        "id": "eAw_vV4SfaUl",
        "outputId": "49a74ff6-4902-42f6-9a54-8312e7d4436e"
      },
      "source": [
        "vis.plot_pairwise_marginal((0,1), resolution=20)"
      ],
      "execution_count": null,
      "outputs": [
        {
          "output_type": "stream",
          "text": [
            "INFO:fanova.visualizer.Visualizer:creating /content/interactive_plots\n"
          ],
          "name": "stderr"
        },
        {
          "output_type": "execute_result",
          "data": {
            "text/plain": [
              "<module 'matplotlib.pyplot' from '/usr/local/lib/python3.7/dist-packages/matplotlib/pyplot.py'>"
            ]
          },
          "metadata": {
            "tags": []
          },
          "execution_count": 9
        },
        {
          "output_type": "display_data",
          "data": {
            "image/png": "[encoded data removed]",
            "text/plain": [
              "<Figure size 432x288 with 3 Axes>"
            ]
          },
          "metadata": {
            "tags": [],
            "needs_background": "light"
          }
        }
      ]
    },
    {
      "cell_type": "code",
      "metadata": {
        "colab": {
          "base_uri": "https://localhost:8080/",
          "height": 398
        },
        "id": "9_NhKVs_f3VK",
        "outputId": "ebf6012f-0e31-4b9b-c8be-358b8238f8b2"
      },
      "source": [
        "import numpy as np\n",
        "\n",
        "from fanova import fANOVA\n",
        "import fanova.visualizer\n",
        "\n",
        "import ConfigSpace\n",
        "from ConfigSpace.hyperparameters import UniformFloatHyperparameter\n",
        "\n",
        "import os\n",
        "#path = os.path.dirname(os.path.realpath(__file__))\n",
        "\n",
        "# directory in which you can find all plots\n",
        "plot_dir = '/content/test_plots'\n",
        "\n",
        "# artificial dataset (here: features)\n",
        "features = np.loadtxt('/content/diabetes_features.csv', delimiter=\",\")\n",
        "responses = np.loadtxt('/content/diabetes_responses.csv', delimiter=\",\")\n",
        "\n",
        "# config space\n",
        "pcs = list(zip(np.min(features,axis=0), np.max(features, axis=0)))\n",
        "cs = ConfigSpace.ConfigurationSpace()\n",
        "for i in range(len(pcs)):\n",
        "\tcs.add_hyperparameter(UniformFloatHyperparameter(\"%i\" %i, pcs[i][0], pcs[i][1]))\n",
        "\n",
        "\n",
        "# create an instance of fanova with trained forest and ConfigSpace\n",
        "f = fANOVA(X = features, Y = responses, config_space=cs)\n",
        "\n",
        "# marginal of particular parameter:\n",
        "dims = (1, )\n",
        "res = f.quantify_importance(dims)\n",
        "print(res)\n",
        "\n",
        "# getting the 10 most important pairwise marginals sorted by importance\n",
        "best_margs = f.get_most_important_pairwise_marginals(n=10)\n",
        "print(best_margs)\n",
        "\n",
        "# visualizations:\n",
        "# first create an instance of the visualizer with fanova object and configspace\n",
        "vis = fanova.visualizer.Visualizer(f, cs, '/content/')\n",
        "# creating the plot of pairwise marginal:\n",
        "vis.plot_pairwise_marginal((0,2), resolution=20)\n",
        "# creating all plots in the directory\n",
        "vis.create_all_plots(plot_dir)"
      ],
      "execution_count": null,
      "outputs": [
        {
          "output_type": "error",
          "ename": "OSError",
          "evalue": "ignored",
          "traceback": [
            "\u001b[0;31m---------------------------------------------------------------------------\u001b[0m",
            "\u001b[0;31mOSError\u001b[0m                                   Traceback (most recent call last)",
            "\u001b[0;32m<ipython-input-37-52171bb4860f>\u001b[0m in \u001b[0;36m<module>\u001b[0;34m()\u001b[0m\n\u001b[1;32m     14\u001b[0m \u001b[0;34m\u001b[0m\u001b[0m\n\u001b[1;32m     15\u001b[0m \u001b[0;31m# artificial dataset (here: features)\u001b[0m\u001b[0;34m\u001b[0m\u001b[0;34m\u001b[0m\u001b[0;34m\u001b[0m\u001b[0m\n\u001b[0;32m---> 16\u001b[0;31m \u001b[0mfeatures\u001b[0m \u001b[0;34m=\u001b[0m \u001b[0mnp\u001b[0m\u001b[0;34m.\u001b[0m\u001b[0mloadtxt\u001b[0m\u001b[0;34m(\u001b[0m\u001b[0;34m'/content/diabetes_features.csv'\u001b[0m\u001b[0;34m,\u001b[0m \u001b[0mdelimiter\u001b[0m\u001b[0;34m=\u001b[0m\u001b[0;34m\",\"\u001b[0m\u001b[0;34m)\u001b[0m\u001b[0;34m\u001b[0m\u001b[0;34m\u001b[0m\u001b[0m\n\u001b[0m\u001b[1;32m     17\u001b[0m \u001b[0mresponses\u001b[0m \u001b[0;34m=\u001b[0m \u001b[0mnp\u001b[0m\u001b[0;34m.\u001b[0m\u001b[0mloadtxt\u001b[0m\u001b[0;34m(\u001b[0m\u001b[0;34m'/content/diabetes_responses.csv'\u001b[0m\u001b[0;34m,\u001b[0m \u001b[0mdelimiter\u001b[0m\u001b[0;34m=\u001b[0m\u001b[0;34m\",\"\u001b[0m\u001b[0;34m)\u001b[0m\u001b[0;34m\u001b[0m\u001b[0;34m\u001b[0m\u001b[0m\n\u001b[1;32m     18\u001b[0m \u001b[0;34m\u001b[0m\u001b[0m\n",
            "\u001b[0;32m/usr/local/lib/python3.7/dist-packages/numpy/lib/npyio.py\u001b[0m in \u001b[0;36mloadtxt\u001b[0;34m(fname, dtype, comments, delimiter, converters, skiprows, usecols, unpack, ndmin, encoding, max_rows)\u001b[0m\n\u001b[1;32m    959\u001b[0m             \u001b[0mfname\u001b[0m \u001b[0;34m=\u001b[0m \u001b[0mos_fspath\u001b[0m\u001b[0;34m(\u001b[0m\u001b[0mfname\u001b[0m\u001b[0;34m)\u001b[0m\u001b[0;34m\u001b[0m\u001b[0;34m\u001b[0m\u001b[0m\n\u001b[1;32m    960\u001b[0m         \u001b[0;32mif\u001b[0m \u001b[0m_is_string_like\u001b[0m\u001b[0;34m(\u001b[0m\u001b[0mfname\u001b[0m\u001b[0;34m)\u001b[0m\u001b[0;34m:\u001b[0m\u001b[0;34m\u001b[0m\u001b[0;34m\u001b[0m\u001b[0m\n\u001b[0;32m--> 961\u001b[0;31m             \u001b[0mfh\u001b[0m \u001b[0;34m=\u001b[0m \u001b[0mnp\u001b[0m\u001b[0;34m.\u001b[0m\u001b[0mlib\u001b[0m\u001b[0;34m.\u001b[0m\u001b[0m_datasource\u001b[0m\u001b[0;34m.\u001b[0m\u001b[0mopen\u001b[0m\u001b[0;34m(\u001b[0m\u001b[0mfname\u001b[0m\u001b[0;34m,\u001b[0m \u001b[0;34m'rt'\u001b[0m\u001b[0;34m,\u001b[0m \u001b[0mencoding\u001b[0m\u001b[0;34m=\u001b[0m\u001b[0mencoding\u001b[0m\u001b[0;34m)\u001b[0m\u001b[0;34m\u001b[0m\u001b[0;34m\u001b[0m\u001b[0m\n\u001b[0m\u001b[1;32m    962\u001b[0m             \u001b[0mfencoding\u001b[0m \u001b[0;34m=\u001b[0m \u001b[0mgetattr\u001b[0m\u001b[0;34m(\u001b[0m\u001b[0mfh\u001b[0m\u001b[0;34m,\u001b[0m \u001b[0;34m'encoding'\u001b[0m\u001b[0;34m,\u001b[0m \u001b[0;34m'latin1'\u001b[0m\u001b[0;34m)\u001b[0m\u001b[0;34m\u001b[0m\u001b[0;34m\u001b[0m\u001b[0m\n\u001b[1;32m    963\u001b[0m             \u001b[0mfh\u001b[0m \u001b[0;34m=\u001b[0m \u001b[0miter\u001b[0m\u001b[0;34m(\u001b[0m\u001b[0mfh\u001b[0m\u001b[0;34m)\u001b[0m\u001b[0;34m\u001b[0m\u001b[0;34m\u001b[0m\u001b[0m\n",
            "\u001b[0;32m/usr/local/lib/python3.7/dist-packages/numpy/lib/_datasource.py\u001b[0m in \u001b[0;36mopen\u001b[0;34m(path, mode, destpath, encoding, newline)\u001b[0m\n\u001b[1;32m    193\u001b[0m \u001b[0;34m\u001b[0m\u001b[0m\n\u001b[1;32m    194\u001b[0m     \u001b[0mds\u001b[0m \u001b[0;34m=\u001b[0m \u001b[0mDataSource\u001b[0m\u001b[0;34m(\u001b[0m\u001b[0mdestpath\u001b[0m\u001b[0;34m)\u001b[0m\u001b[0;34m\u001b[0m\u001b[0;34m\u001b[0m\u001b[0m\n\u001b[0;32m--> 195\u001b[0;31m     \u001b[0;32mreturn\u001b[0m \u001b[0mds\u001b[0m\u001b[0;34m.\u001b[0m\u001b[0mopen\u001b[0m\u001b[0;34m(\u001b[0m\u001b[0mpath\u001b[0m\u001b[0;34m,\u001b[0m \u001b[0mmode\u001b[0m\u001b[0;34m,\u001b[0m \u001b[0mencoding\u001b[0m\u001b[0;34m=\u001b[0m\u001b[0mencoding\u001b[0m\u001b[0;34m,\u001b[0m \u001b[0mnewline\u001b[0m\u001b[0;34m=\u001b[0m\u001b[0mnewline\u001b[0m\u001b[0;34m)\u001b[0m\u001b[0;34m\u001b[0m\u001b[0;34m\u001b[0m\u001b[0m\n\u001b[0m\u001b[1;32m    196\u001b[0m \u001b[0;34m\u001b[0m\u001b[0m\n\u001b[1;32m    197\u001b[0m \u001b[0;34m\u001b[0m\u001b[0m\n",
            "\u001b[0;32m/usr/local/lib/python3.7/dist-packages/numpy/lib/_datasource.py\u001b[0m in \u001b[0;36mopen\u001b[0;34m(self, path, mode, encoding, newline)\u001b[0m\n\u001b[1;32m    533\u001b[0m                                       encoding=encoding, newline=newline)\n\u001b[1;32m    534\u001b[0m         \u001b[0;32melse\u001b[0m\u001b[0;34m:\u001b[0m\u001b[0;34m\u001b[0m\u001b[0;34m\u001b[0m\u001b[0m\n\u001b[0;32m--> 535\u001b[0;31m             \u001b[0;32mraise\u001b[0m \u001b[0mIOError\u001b[0m\u001b[0;34m(\u001b[0m\u001b[0;34m\"%s not found.\"\u001b[0m \u001b[0;34m%\u001b[0m \u001b[0mpath\u001b[0m\u001b[0;34m)\u001b[0m\u001b[0;34m\u001b[0m\u001b[0;34m\u001b[0m\u001b[0m\n\u001b[0m\u001b[1;32m    536\u001b[0m \u001b[0;34m\u001b[0m\u001b[0m\n\u001b[1;32m    537\u001b[0m \u001b[0;34m\u001b[0m\u001b[0m\n",
            "\u001b[0;31mOSError\u001b[0m: /content/diabetes_features.csv not found."
          ]
        }
      ]
    },
    {
      "cell_type": "code",
      "metadata": {
        "id": "EEmO4wwwiaGH"
      },
      "source": [
        ""
      ],
      "execution_count": null,
      "outputs": []
    }
  ]
}